{
 "cells": [
  {
   "cell_type": "markdown",
   "metadata": {},
   "source": [
    "### Setting up Kaggle API"
   ]
  },
  {
   "cell_type": "code",
   "execution_count": null,
   "metadata": {
    "executionInfo": {
     "elapsed": 26,
     "status": "ok",
     "timestamp": 1742999911348,
     "user": {
      "displayName": "Pravat Nagarkoti",
      "userId": "17957684356100406813"
     },
     "user_tz": -345
    },
    "id": "_naFf5e7d1Zu"
   },
   "outputs": [],
   "source": [
    "import shutil\n",
    "import os\n",
    "\n",
    "src = \"/content/drive/MyDrive/Colab Notebooks/kaggle.json\"\n",
    "dst_folder = \"/root/.kaggle\"\n",
    "dst = os.path.join(dst_folder, \"kaggle.json\")\n",
    "\n",
    "os.makedirs(dst_folder, exist_ok=True)\n",
    "\n",
    "shutil.move(src, dst)\n",
    "\n",
    "os.chmod(dst, 600)\n",
    "\n",
    "print(\"✅ kaggle.json moved successfully!\")\n"
   ]
  },
  {
   "cell_type": "code",
   "execution_count": 2,
   "metadata": {
    "executionInfo": {
     "elapsed": 21,
     "status": "ok",
     "timestamp": 1742999911368,
     "user": {
      "displayName": "Pravat Nagarkoti",
      "userId": "17957684356100406813"
     },
     "user_tz": -345
    },
    "id": "LgzYthpEdsYl"
   },
   "outputs": [],
   "source": [
    "!pip install kaggle\n",
    "!kaggle datasets list\n"
   ]
  },
  {
   "cell_type": "markdown",
   "metadata": {},
   "source": [
    "### Downloading Flickr8k Dataset"
   ]
  },
  {
   "cell_type": "code",
   "execution_count": 3,
   "metadata": {
    "executionInfo": {
     "elapsed": 8,
     "status": "ok",
     "timestamp": 1742999911374,
     "user": {
      "displayName": "Pravat Nagarkoti",
      "userId": "17957684356100406813"
     },
     "user_tz": -345
    },
    "id": "EB2tFbwyd7JM"
   },
   "outputs": [],
   "source": [
    "!kaggle datasets download -d adityajn105/flickr8k\n"
   ]
  },
  {
   "cell_type": "code",
   "execution_count": null,
   "metadata": {
    "executionInfo": {
     "elapsed": 6,
     "status": "ok",
     "timestamp": 1742999911377,
     "user": {
      "displayName": "Pravat Nagarkoti",
      "userId": "17957684356100406813"
     },
     "user_tz": -345
    },
    "id": "bA3NeJLHd8xu"
   },
   "outputs": [],
   "source": [
    "import zipfile\n",
    "\n",
    "with zipfile.ZipFile(\"/content/flickr8k.zip\", \"r\") as zip_ref:\n",
    "    zip_ref.extractall(\"flickr8k\")\n",
    "\n",
    "os.remove(\"flickr8k.zip\")\n",
    "\n",
    "!ls flickr8k\n"
   ]
  },
  {
   "cell_type": "markdown",
   "metadata": {
    "id": "haJk7jI-Dm8N"
   },
   "source": [
    "### 1️⃣ Install Dependencies & Load Dataset"
   ]
  },
  {
   "cell_type": "code",
   "execution_count": 5,
   "metadata": {
    "executionInfo": {
     "elapsed": 4307,
     "status": "ok",
     "timestamp": 1742999915701,
     "user": {
      "displayName": "Pravat Nagarkoti",
      "userId": "17957684356100406813"
     },
     "user_tz": -345
    },
    "id": "d_0dB6WjDmuI"
   },
   "outputs": [],
   "source": [
    "!pip install transformers datasets accelerate evaluate --quiet\n"
   ]
  },
  {
   "cell_type": "code",
   "execution_count": null,
   "metadata": {
    "colab": {
     "base_uri": "https://localhost:8080/"
    },
    "executionInfo": {
     "elapsed": 27267,
     "status": "ok",
     "timestamp": 1742999942988,
     "user": {
      "displayName": "Pravat Nagarkoti",
      "userId": "17957684356100406813"
     },
     "user_tz": -345
    },
    "id": "h1fyD0ldDlzU",
    "outputId": "66d20af2-ca05-40c1-c2af-60af82bad117"
   },
   "outputs": [
    {
     "name": "stderr",
     "output_type": "stream",
     "text": [
      "Using a slow image processor as `use_fast` is unset and a slow processor was saved with this model. `use_fast=True` will be the default behavior in v4.50, even if the model was saved with a slow processor. This will result in minor differences in outputs. You'll still be able to use a slow processor with `use_fast=False`.\n",
      "/usr/local/lib/python3.11/dist-packages/huggingface_hub/utils/_auth.py:94: UserWarning: \n",
      "The secret `HF_TOKEN` does not exist in your Colab secrets.\n",
      "To authenticate with the Hugging Face Hub, create a token in your settings tab (https://huggingface.co/settings/tokens), set it as secret in your Google Colab and restart your session.\n",
      "You will be able to reuse this secret in all of your notebooks.\n",
      "Please note that authentication is recommended but still optional to access public models or datasets.\n",
      "  warnings.warn(\n"
     ]
    }
   ],
   "source": [
    "import os\n",
    "import torch\n",
    "import pandas as pd\n",
    "from PIL import Image\n",
    "from transformers import BlipProcessor, BlipForConditionalGeneration, Trainer, TrainingArguments, DataCollatorForSeq2Seq\n",
    "from datasets import Dataset\n",
    "\n",
    "CAPTIONS_FILE = \"/content/drive/MyDrive/Colab Notebooks/flickr8k/captions.txt\"\n",
    "IMAGE_FOLDER = \"/content/drive/MyDrive/Colab Notebooks/flickr8k/Images/\"\n",
    "\n",
    "df = pd.read_csv(CAPTIONS_FILE, names=[\"image\", \"caption\"], usecols=[0, 1])\n",
    "df = df.groupby(\"image\").first().reset_index()  # Keep only 1 caption per image\n",
    "df = df.sample(n=2000, random_state=42)  # Select 2000 images randomly\n",
    "\n",
    "processor = BlipProcessor.from_pretrained(\"Salesforce/blip-image-captioning-base\")\n"
   ]
  },
  {
   "cell_type": "markdown",
   "metadata": {
    "id": "s-Xz1yiJDlqR"
   },
   "source": [
    "### 2️⃣ Preprocess the Dataset"
   ]
  },
  {
   "cell_type": "code",
   "execution_count": null,
   "metadata": {
    "colab": {
     "base_uri": "https://localhost:8080/",
     "height": 49,
     "referenced_widgets": [
      "c17e06d08e5143c1859120095826d765",
      "6c5d70d7c48c44fcbc96ce91c3dbd4b9",
      "f622578001484e2fbf6d257ac7bdbd4f",
      "fe9ab41472d140e08c2541ab4f0db418",
      "0c601b2d9b8e40f5ae197dda17e3cec8",
      "3a4c4461ad8f41f5aa0fb82d9fef7135",
      "0778b7661fa14c9b866b33fc2c928812",
      "1932a2b334f94f9daea79e99e6866240",
      "1c5ea2d2ac874839a4cf2da5ef4dbd61",
      "7663c03e204546a2af49af371a6443c5",
      "83453b76458a4fc88b0c46b2fc5feb53"
     ]
    },
    "executionInfo": {
     "elapsed": 84016,
     "status": "ok",
     "timestamp": 1743000027007,
     "user": {
      "displayName": "Pravat Nagarkoti",
      "userId": "17957684356100406813"
     },
     "user_tz": -345
    },
    "id": "x2Ar6a8KDlg2",
    "outputId": "8c84277f-0a9a-455e-ffaf-c788423cf4f1"
   },
   "outputs": [
    {
     "data": {
      "application/vnd.jupyter.widget-view+json": {
       "model_id": "c17e06d08e5143c1859120095826d765",
       "version_major": 2,
       "version_minor": 0
      },
      "text/plain": [
       "Map:   0%|          | 0/1999 [00:00<?, ? examples/s]"
      ]
     },
     "metadata": {},
     "output_type": "display_data"
    }
   ],
   "source": [
    "def preprocess_data(example):\n",
    "    if pd.isna(example[\"image\"]) or pd.isna(example[\"caption\"]):\n",
    "        return {}\n",
    "\n",
    "    image_path = os.path.join(IMAGE_FOLDER, example[\"image\"])\n",
    "    if not os.path.exists(image_path):\n",
    "        print(f\"Warning: Image not found - {image_path}\")\n",
    "        return {}\n",
    "\n",
    "    try:\n",
    "        image = Image.open(image_path).convert(\"RGB\")\n",
    "        encoding = processor(images=image, text=example[\"caption\"], return_tensors=\"pt\", padding=\"max_length\", truncation=True)\n",
    "\n",
    "        return {\n",
    "            \"pixel_values\": encoding[\"pixel_values\"].squeeze(),\n",
    "            \"input_ids\": encoding[\"input_ids\"].squeeze(),\n",
    "            \"attention_mask\": encoding[\"attention_mask\"].squeeze(),\n",
    "            \"labels\": encoding[\"input_ids\"].squeeze(),\n",
    "        }\n",
    "    except Exception as e:\n",
    "        print(f\"Error processing image {image_path}: {e}\")\n",
    "        return {}\n",
    "\n",
    "df.dropna(subset=[\"image\", \"caption\"], inplace=True)\n",
    "dataset = Dataset.from_pandas(df)\n",
    "dataset = dataset.map(preprocess_data, remove_columns=[\"image\", \"caption\"], batched=False)\n",
    "\n",
    "train_test_split = dataset.train_test_split(test_size=0.1)\n",
    "train_dataset = train_test_split[\"train\"]\n",
    "eval_dataset = train_test_split[\"test\"]\n"
   ]
  },
  {
   "cell_type": "markdown",
   "metadata": {
    "id": "MBDGfQr4DlYX"
   },
   "source": [
    "### 3️⃣ Define Optimized Training Arguments"
   ]
  },
  {
   "cell_type": "code",
   "execution_count": null,
   "metadata": {
    "executionInfo": {
     "elapsed": 210,
     "status": "ok",
     "timestamp": 1743000027233,
     "user": {
      "displayName": "Pravat Nagarkoti",
      "userId": "17957684356100406813"
     },
     "user_tz": -345
    },
    "id": "Vy9OpivdDlPh"
   },
   "outputs": [],
   "source": [
    "training_args = TrainingArguments(\n",
    "    output_dir=\"./blip_flickr8k\",\n",
    "    per_device_train_batch_size=2,\n",
    "    per_device_eval_batch_size=2,\n",
    "    gradient_accumulation_steps=4,\n",
    "    max_steps=1000,\n",
    "    num_train_epochs=3,\n",
    "    logging_dir=\"./logs\",\n",
    "    save_total_limit=1,\n",
    "    eval_strategy=\"steps\",\n",
    "    save_strategy=\"steps\",\n",
    "    save_steps=500,\n",
    "    logging_steps=200,\n",
    "    learning_rate=3e-5,\n",
    "    weight_decay=0.01,\n",
    "    report_to=\"none\",\n",
    "    fp16=True,\n",
    "    gradient_checkpointing=True,\n",
    "    dataloader_num_workers=2,\n",
    "    warmup_steps=100,\n",
    "    save_on_each_node=False,\n",
    ")\n"
   ]
  },
  {
   "cell_type": "markdown",
   "metadata": {
    "id": "y8cQ-M3JDlEf"
   },
   "source": [
    "### 4️⃣ Load the BLIP Model & Data Collator"
   ]
  },
  {
   "cell_type": "code",
   "execution_count": null,
   "metadata": {
    "executionInfo": {
     "elapsed": 2799,
     "status": "ok",
     "timestamp": 1743000030035,
     "user": {
      "displayName": "Pravat Nagarkoti",
      "userId": "17957684356100406813"
     },
     "user_tz": -345
    },
    "id": "psNUYUVxEFcD"
   },
   "outputs": [],
   "source": [
    "model = BlipForConditionalGeneration.from_pretrained(\"Salesforce/blip-image-captioning-base\")\n",
    "\n",
    "data_collator = DataCollatorForSeq2Seq(processor.tokenizer, model=model, padding=True)\n"
   ]
  },
  {
   "cell_type": "markdown",
   "metadata": {
    "id": "eH9SNKK-EFoZ"
   },
   "source": [
    "### 5️⃣ Train the Model"
   ]
  },
  {
   "cell_type": "code",
   "execution_count": null,
   "metadata": {
    "colab": {
     "base_uri": "https://localhost:8080/",
     "height": 454
    },
    "executionInfo": {
     "elapsed": 1262494,
     "status": "ok",
     "timestamp": 1743003167967,
     "user": {
      "displayName": "Pravat Nagarkoti",
      "userId": "17957684356100406813"
     },
     "user_tz": -345
    },
    "id": "CK94byYLEFzm",
    "outputId": "33622754-06c5-493e-bbab-020bc38d061f"
   },
   "outputs": [
    {
     "data": {
      "text/html": [
       "\n",
       "    <div>\n",
       "      \n",
       "      <progress value='607' max='1000' style='width:300px; height:20px; vertical-align: middle;'></progress>\n",
       "      [ 607/1000 31:01 < 20:09, 0.32 it/s, Epoch 2.69/5]\n",
       "    </div>\n",
       "    <table border=\"1\" class=\"dataframe\">\n",
       "  <thead>\n",
       " <tr style=\"text-align: left;\">\n",
       "      <th>Step</th>\n",
       "      <th>Training Loss</th>\n",
       "      <th>Validation Loss</th>\n",
       "    </tr>\n",
       "  </thead>\n",
       "  <tbody>\n",
       "    <tr>\n",
       "      <td>200</td>\n",
       "      <td>4.823700</td>\n",
       "      <td>0.091851</td>\n",
       "    </tr>\n",
       "    <tr>\n",
       "      <td>400</td>\n",
       "      <td>0.054800</td>\n",
       "      <td>0.055504</td>\n",
       "    </tr>\n",
       "    <tr>\n",
       "      <td>600</td>\n",
       "      <td>0.034400</td>\n",
       "      <td>0.055461</td>\n",
       "    </tr>\n",
       "  </tbody>\n",
       "</table><p>"
      ],
      "text/plain": [
       "<IPython.core.display.HTML object>"
      ]
     },
     "metadata": {},
     "output_type": "display_data"
    },
    {
     "data": {
      "text/html": [
       "\n",
       "    <div>\n",
       "      \n",
       "      <progress value='1000' max='1000' style='width:300px; height:20px; vertical-align: middle;'></progress>\n",
       "      [1000/1000 52:07, Epoch 4/5]\n",
       "    </div>\n",
       "    <table border=\"1\" class=\"dataframe\">\n",
       "  <thead>\n",
       " <tr style=\"text-align: left;\">\n",
       "      <th>Step</th>\n",
       "      <th>Training Loss</th>\n",
       "      <th>Validation Loss</th>\n",
       "    </tr>\n",
       "  </thead>\n",
       "  <tbody>\n",
       "    <tr>\n",
       "      <td>200</td>\n",
       "      <td>4.823700</td>\n",
       "      <td>0.091851</td>\n",
       "    </tr>\n",
       "    <tr>\n",
       "      <td>400</td>\n",
       "      <td>0.054800</td>\n",
       "      <td>0.055504</td>\n",
       "    </tr>\n",
       "    <tr>\n",
       "      <td>600</td>\n",
       "      <td>0.034400</td>\n",
       "      <td>0.055461</td>\n",
       "    </tr>\n",
       "    <tr>\n",
       "      <td>800</td>\n",
       "      <td>0.024000</td>\n",
       "      <td>0.058299</td>\n",
       "    </tr>\n",
       "    <tr>\n",
       "      <td>1000</td>\n",
       "      <td>0.017000</td>\n",
       "      <td>0.059844</td>\n",
       "    </tr>\n",
       "  </tbody>\n",
       "</table><p>"
      ],
      "text/plain": [
       "<IPython.core.display.HTML object>"
      ]
     },
     "metadata": {},
     "output_type": "display_data"
    },
    {
     "data": {
      "text/plain": [
       "TrainOutput(global_step=1000, training_loss=0.9907985074520111, metrics={'train_runtime': 3136.179, 'train_samples_per_second': 2.551, 'train_steps_per_second': 0.319, 'total_flos': 4.745015523191292e+18, 'train_loss': 0.9907985074520111, 'epoch': 4.444444444444445})"
      ]
     },
     "execution_count": 10,
     "metadata": {},
     "output_type": "execute_result"
    }
   ],
   "source": [
    "trainer = Trainer(\n",
    "    model=model,\n",
    "    args=training_args,\n",
    "    train_dataset=train_dataset,\n",
    "    eval_dataset=eval_dataset,\n",
    "    data_collator=data_collator,\n",
    ")\n",
    "\n",
    "trainer.train()\n"
   ]
  },
  {
   "cell_type": "markdown",
   "metadata": {
    "id": "WqIkJCGBEF91"
   },
   "source": [
    "### 6️⃣ Save Fine-tuned Model"
   ]
  },
  {
   "cell_type": "code",
   "execution_count": null,
   "metadata": {
    "colab": {
     "base_uri": "https://localhost:8080/"
    },
    "executionInfo": {
     "elapsed": 14757,
     "status": "ok",
     "timestamp": 1743003182734,
     "user": {
      "displayName": "Pravat Nagarkoti",
      "userId": "17957684356100406813"
     },
     "user_tz": -345
    },
    "id": "Iid58lb6EGMH",
    "outputId": "403d6bf2-b889-4c72-d9ef-1ea1ad48fcac"
   },
   "outputs": [
    {
     "data": {
      "text/plain": [
       "[]"
      ]
     },
     "execution_count": 11,
     "metadata": {},
     "output_type": "execute_result"
    }
   ],
   "source": [
    "model.save_pretrained(\"/content/drive/MyDrive/Colab Notebooks/blip_flickr8k_finetuned\")\n",
    "processor.save_pretrained(\"/content/drive/MyDrive/Colab Notebooks/blip_flickr8k_finetuned\")\n"
   ]
  },
  {
   "cell_type": "markdown",
   "metadata": {
    "id": "MKTFZThIEGYO"
   },
   "source": [
    "### 7️⃣ Generate Captions to Compare Before & After Fine-tuning"
   ]
  },
  {
   "cell_type": "code",
   "execution_count": null,
   "metadata": {
    "colab": {
     "base_uri": "https://localhost:8080/",
     "height": 1000,
     "output_embedded_package_id": "1C2pFIUhIT0k7t5T002p5WxymFskD15zx"
    },
    "executionInfo": {
     "elapsed": 52962,
     "status": "ok",
     "timestamp": 1743003526778,
     "user": {
      "displayName": "Pravat Nagarkoti",
      "userId": "17957684356100406813"
     },
     "user_tz": -345
    },
    "id": "5r5HMlbCElQx",
    "outputId": "d61c7a19-7e6c-4d85-d816-5ea6c00fbdcc"
   },
   "outputs": [
    {
     "data": {
      "text/plain": [
       "Output hidden; open in https://colab.research.google.com to view."
      ]
     },
     "metadata": {},
     "output_type": "display_data"
    }
   ],
   "source": [
    "import os\n",
    "import matplotlib.pyplot as plt\n",
    "from PIL import Image\n",
    "import torch\n",
    "from transformers import BlipProcessor, BlipForConditionalGeneration\n",
    "\n",
    "device = \"cuda\" if torch.cuda.is_available() else \"cpu\"\n",
    "\n",
    "model = BlipForConditionalGeneration.from_pretrained(\"Salesforce/blip-image-captioning-base\").to(device)\n",
    "processor = BlipProcessor.from_pretrained(\"Salesforce/blip-image-captioning-base\")\n",
    "\n",
    "model_finetuned = BlipForConditionalGeneration.from_pretrained(\"/content/drive/MyDrive/Colab Notebooks/blip_flickr8k_finetuned\").to(device)\n",
    "processor_finetuned = BlipProcessor.from_pretrained(\"/content/drive/MyDrive/Colab Notebooks/blip_flickr8k_finetuned\")\n",
    "\n",
    "IMAGE_FILES = [\n",
    "    \"1000268201_693b08cb0e.jpg\",\n",
    "    \"1001773457_577c3a7d70.jpg\",\n",
    "    \"1002674143_1b742ab4b8.jpg\",\n",
    "    \"1003163366_44323f5815.jpg\",\n",
    "    \"1007129816_e794419615.jpg\"\n",
    "]\n",
    "\n",
    "def generate_caption(model, processor, image_path):\n",
    "    image = Image.open(image_path).convert(\"RGB\")\n",
    "\n",
    "    inputs = processor(images=image, return_tensors=\"pt\").to(device)\n",
    "\n",
    "    with torch.no_grad():\n",
    "        out = model.generate(**inputs)\n",
    "\n",
    "    caption = processor.decode(out[0], skip_special_tokens=True)\n",
    "    return caption\n",
    "\n",
    "for image_file in IMAGE_FILES:\n",
    "    image_path = os.path.join(IMAGE_FOLDER, image_file)\n",
    "\n",
    "    ground_truth = df[df[\"image\"] == image_file][\"caption\"].values\n",
    "    ground_truth_caption = ground_truth[0] if len(ground_truth) > 0 else \"N/A (Caption Missing)\"\n",
    "\n",
    "    caption_before = generate_caption(model, processor, image_path)\n",
    "    caption_after = generate_caption(model_finetuned, processor_finetuned, image_path)\n",
    "\n",
    "    image = Image.open(image_path)\n",
    "    plt.figure(figsize=(6, 6))\n",
    "    plt.imshow(image)\n",
    "    plt.axis(\"off\")\n",
    "    plt.title(f\"Ground Truth: {ground_truth_caption}\", fontsize=10, wrap=True)\n",
    "    plt.show()\n",
    "\n",
    "    print(f\"🖼️ Image: {image_file}\")\n",
    "    print(f\"📌 Ground Truth: {ground_truth_caption}\")\n",
    "    print(f\"📝 Caption Before Fine-Tuning: {caption_before}\")\n",
    "    print(f\"✅ Caption After Fine-Tuning: {caption_after}\")\n",
    "    print(\"-\" * 80)\n"
   ]
  }
 ],
 "metadata": {
  "accelerator": "GPU",
  "colab": {
   "authorship_tag": "ABX9TyPPJ6LrDMQdxSgotrGqnMeB",
   "gpuType": "T4",
   "mount_file_id": "1mIGq_38z5DHI2V_qzXSrQmKIDeaYbVZx",
   "provenance": []
  },
  "kernelspec": {
   "display_name": "Python 3",
   "name": "python3"
  },
  "language_info": {
   "name": "python"
  },
  "widgets": {
   "application/vnd.jupyter.widget-state+json": {
    "0778b7661fa14c9b866b33fc2c928812": {
     "model_module": "@jupyter-widgets/controls",
     "model_module_version": "1.5.0",
     "model_name": "DescriptionStyleModel",
     "state": {
      "_model_module": "@jupyter-widgets/controls",
      "_model_module_version": "1.5.0",
      "_model_name": "DescriptionStyleModel",
      "_view_count": null,
      "_view_module": "@jupyter-widgets/base",
      "_view_module_version": "1.2.0",
      "_view_name": "StyleView",
      "description_width": ""
     }
    },
    "0c601b2d9b8e40f5ae197dda17e3cec8": {
     "model_module": "@jupyter-widgets/base",
     "model_module_version": "1.2.0",
     "model_name": "LayoutModel",
     "state": {
      "_model_module": "@jupyter-widgets/base",
      "_model_module_version": "1.2.0",
      "_model_name": "LayoutModel",
      "_view_count": null,
      "_view_module": "@jupyter-widgets/base",
      "_view_module_version": "1.2.0",
      "_view_name": "LayoutView",
      "align_content": null,
      "align_items": null,
      "align_self": null,
      "border": null,
      "bottom": null,
      "display": null,
      "flex": null,
      "flex_flow": null,
      "grid_area": null,
      "grid_auto_columns": null,
      "grid_auto_flow": null,
      "grid_auto_rows": null,
      "grid_column": null,
      "grid_gap": null,
      "grid_row": null,
      "grid_template_areas": null,
      "grid_template_columns": null,
      "grid_template_rows": null,
      "height": null,
      "justify_content": null,
      "justify_items": null,
      "left": null,
      "margin": null,
      "max_height": null,
      "max_width": null,
      "min_height": null,
      "min_width": null,
      "object_fit": null,
      "object_position": null,
      "order": null,
      "overflow": null,
      "overflow_x": null,
      "overflow_y": null,
      "padding": null,
      "right": null,
      "top": null,
      "visibility": null,
      "width": null
     }
    },
    "1932a2b334f94f9daea79e99e6866240": {
     "model_module": "@jupyter-widgets/base",
     "model_module_version": "1.2.0",
     "model_name": "LayoutModel",
     "state": {
      "_model_module": "@jupyter-widgets/base",
      "_model_module_version": "1.2.0",
      "_model_name": "LayoutModel",
      "_view_count": null,
      "_view_module": "@jupyter-widgets/base",
      "_view_module_version": "1.2.0",
      "_view_name": "LayoutView",
      "align_content": null,
      "align_items": null,
      "align_self": null,
      "border": null,
      "bottom": null,
      "display": null,
      "flex": null,
      "flex_flow": null,
      "grid_area": null,
      "grid_auto_columns": null,
      "grid_auto_flow": null,
      "grid_auto_rows": null,
      "grid_column": null,
      "grid_gap": null,
      "grid_row": null,
      "grid_template_areas": null,
      "grid_template_columns": null,
      "grid_template_rows": null,
      "height": null,
      "justify_content": null,
      "justify_items": null,
      "left": null,
      "margin": null,
      "max_height": null,
      "max_width": null,
      "min_height": null,
      "min_width": null,
      "object_fit": null,
      "object_position": null,
      "order": null,
      "overflow": null,
      "overflow_x": null,
      "overflow_y": null,
      "padding": null,
      "right": null,
      "top": null,
      "visibility": null,
      "width": null
     }
    },
    "1c5ea2d2ac874839a4cf2da5ef4dbd61": {
     "model_module": "@jupyter-widgets/controls",
     "model_module_version": "1.5.0",
     "model_name": "ProgressStyleModel",
     "state": {
      "_model_module": "@jupyter-widgets/controls",
      "_model_module_version": "1.5.0",
      "_model_name": "ProgressStyleModel",
      "_view_count": null,
      "_view_module": "@jupyter-widgets/base",
      "_view_module_version": "1.2.0",
      "_view_name": "StyleView",
      "bar_color": null,
      "description_width": ""
     }
    },
    "3a4c4461ad8f41f5aa0fb82d9fef7135": {
     "model_module": "@jupyter-widgets/base",
     "model_module_version": "1.2.0",
     "model_name": "LayoutModel",
     "state": {
      "_model_module": "@jupyter-widgets/base",
      "_model_module_version": "1.2.0",
      "_model_name": "LayoutModel",
      "_view_count": null,
      "_view_module": "@jupyter-widgets/base",
      "_view_module_version": "1.2.0",
      "_view_name": "LayoutView",
      "align_content": null,
      "align_items": null,
      "align_self": null,
      "border": null,
      "bottom": null,
      "display": null,
      "flex": null,
      "flex_flow": null,
      "grid_area": null,
      "grid_auto_columns": null,
      "grid_auto_flow": null,
      "grid_auto_rows": null,
      "grid_column": null,
      "grid_gap": null,
      "grid_row": null,
      "grid_template_areas": null,
      "grid_template_columns": null,
      "grid_template_rows": null,
      "height": null,
      "justify_content": null,
      "justify_items": null,
      "left": null,
      "margin": null,
      "max_height": null,
      "max_width": null,
      "min_height": null,
      "min_width": null,
      "object_fit": null,
      "object_position": null,
      "order": null,
      "overflow": null,
      "overflow_x": null,
      "overflow_y": null,
      "padding": null,
      "right": null,
      "top": null,
      "visibility": null,
      "width": null
     }
    },
    "6c5d70d7c48c44fcbc96ce91c3dbd4b9": {
     "model_module": "@jupyter-widgets/controls",
     "model_module_version": "1.5.0",
     "model_name": "HTMLModel",
     "state": {
      "_dom_classes": [],
      "_model_module": "@jupyter-widgets/controls",
      "_model_module_version": "1.5.0",
      "_model_name": "HTMLModel",
      "_view_count": null,
      "_view_module": "@jupyter-widgets/controls",
      "_view_module_version": "1.5.0",
      "_view_name": "HTMLView",
      "description": "",
      "description_tooltip": null,
      "layout": "IPY_MODEL_3a4c4461ad8f41f5aa0fb82d9fef7135",
      "placeholder": "​",
      "style": "IPY_MODEL_0778b7661fa14c9b866b33fc2c928812",
      "value": "Map: 100%"
     }
    },
    "7663c03e204546a2af49af371a6443c5": {
     "model_module": "@jupyter-widgets/base",
     "model_module_version": "1.2.0",
     "model_name": "LayoutModel",
     "state": {
      "_model_module": "@jupyter-widgets/base",
      "_model_module_version": "1.2.0",
      "_model_name": "LayoutModel",
      "_view_count": null,
      "_view_module": "@jupyter-widgets/base",
      "_view_module_version": "1.2.0",
      "_view_name": "LayoutView",
      "align_content": null,
      "align_items": null,
      "align_self": null,
      "border": null,
      "bottom": null,
      "display": null,
      "flex": null,
      "flex_flow": null,
      "grid_area": null,
      "grid_auto_columns": null,
      "grid_auto_flow": null,
      "grid_auto_rows": null,
      "grid_column": null,
      "grid_gap": null,
      "grid_row": null,
      "grid_template_areas": null,
      "grid_template_columns": null,
      "grid_template_rows": null,
      "height": null,
      "justify_content": null,
      "justify_items": null,
      "left": null,
      "margin": null,
      "max_height": null,
      "max_width": null,
      "min_height": null,
      "min_width": null,
      "object_fit": null,
      "object_position": null,
      "order": null,
      "overflow": null,
      "overflow_x": null,
      "overflow_y": null,
      "padding": null,
      "right": null,
      "top": null,
      "visibility": null,
      "width": null
     }
    },
    "83453b76458a4fc88b0c46b2fc5feb53": {
     "model_module": "@jupyter-widgets/controls",
     "model_module_version": "1.5.0",
     "model_name": "DescriptionStyleModel",
     "state": {
      "_model_module": "@jupyter-widgets/controls",
      "_model_module_version": "1.5.0",
      "_model_name": "DescriptionStyleModel",
      "_view_count": null,
      "_view_module": "@jupyter-widgets/base",
      "_view_module_version": "1.2.0",
      "_view_name": "StyleView",
      "description_width": ""
     }
    },
    "c17e06d08e5143c1859120095826d765": {
     "model_module": "@jupyter-widgets/controls",
     "model_module_version": "1.5.0",
     "model_name": "HBoxModel",
     "state": {
      "_dom_classes": [],
      "_model_module": "@jupyter-widgets/controls",
      "_model_module_version": "1.5.0",
      "_model_name": "HBoxModel",
      "_view_count": null,
      "_view_module": "@jupyter-widgets/controls",
      "_view_module_version": "1.5.0",
      "_view_name": "HBoxView",
      "box_style": "",
      "children": [
       "IPY_MODEL_6c5d70d7c48c44fcbc96ce91c3dbd4b9",
       "IPY_MODEL_f622578001484e2fbf6d257ac7bdbd4f",
       "IPY_MODEL_fe9ab41472d140e08c2541ab4f0db418"
      ],
      "layout": "IPY_MODEL_0c601b2d9b8e40f5ae197dda17e3cec8"
     }
    },
    "f622578001484e2fbf6d257ac7bdbd4f": {
     "model_module": "@jupyter-widgets/controls",
     "model_module_version": "1.5.0",
     "model_name": "FloatProgressModel",
     "state": {
      "_dom_classes": [],
      "_model_module": "@jupyter-widgets/controls",
      "_model_module_version": "1.5.0",
      "_model_name": "FloatProgressModel",
      "_view_count": null,
      "_view_module": "@jupyter-widgets/controls",
      "_view_module_version": "1.5.0",
      "_view_name": "ProgressView",
      "bar_style": "success",
      "description": "",
      "description_tooltip": null,
      "layout": "IPY_MODEL_1932a2b334f94f9daea79e99e6866240",
      "max": 1999,
      "min": 0,
      "orientation": "horizontal",
      "style": "IPY_MODEL_1c5ea2d2ac874839a4cf2da5ef4dbd61",
      "value": 1999
     }
    },
    "fe9ab41472d140e08c2541ab4f0db418": {
     "model_module": "@jupyter-widgets/controls",
     "model_module_version": "1.5.0",
     "model_name": "HTMLModel",
     "state": {
      "_dom_classes": [],
      "_model_module": "@jupyter-widgets/controls",
      "_model_module_version": "1.5.0",
      "_model_name": "HTMLModel",
      "_view_count": null,
      "_view_module": "@jupyter-widgets/controls",
      "_view_module_version": "1.5.0",
      "_view_name": "HTMLView",
      "description": "",
      "description_tooltip": null,
      "layout": "IPY_MODEL_7663c03e204546a2af49af371a6443c5",
      "placeholder": "​",
      "style": "IPY_MODEL_83453b76458a4fc88b0c46b2fc5feb53",
      "value": " 1999/1999 [01:23&lt;00:00,  1.14 examples/s]"
     }
    }
   }
  }
 },
 "nbformat": 4,
 "nbformat_minor": 0
}
